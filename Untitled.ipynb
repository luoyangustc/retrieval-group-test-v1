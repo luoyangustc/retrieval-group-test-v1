{
 "cells": [
  {
   "cell_type": "code",
   "execution_count": 4,
   "metadata": {},
   "outputs": [
    {
     "name": "stdout",
     "output_type": "stream",
     "text": [
      "The top-5 correct percentage is 0.234667\n",
      "The recall percentage is 0.300000\n"
     ]
    }
   ],
   "source": [
    "import json\n",
    "res = []\n",
    "a = 0\n",
    "j = 0\n",
    "\n",
    "h = open(\"../txt/query.txt.retrieval.json\",'r')\n",
    "\n",
    "for line in h.readlines():\n",
    "    j += 1 \n",
    "    dic = json.loads(line)\n",
    "    if not \"error\" in dic.keys():\n",
    "        t = {\"url\": dic[\"url\"], \"true\":0, \"simialr_uri\":[], \"differ_uri\":[]}\n",
    "        a += 1\n",
    "        im_num = (dic[\"url\"].split(\".\")[-2]).split('/')[-1]\n",
    "        for result in dic[\"search_results\"][0][\"results\"]:\n",
    "            if ((result[\"id\"].split('/')[4]).split('__')[0]==\"eval\") and (im_num in (result[\"id\"].split('/'))[4].split('-')[0]):\n",
    "                t[\"simialr_uri\"].append(result[\"id\"])\n",
    "                t[\"true\"] += 1\n",
    "            else:\n",
    "                t[\"differ_uri\"].append(result[\"id\"])\n",
    "        res.append(t)\n",
    "\n",
    "p = 0\n",
    "r = 0\n",
    "for i in range(a):\n",
    "    p += res[i][\"true\"]\n",
    "    if res[i][\"true\"]>=1:\n",
    "        r += 1\n",
    "        \n",
    "\n",
    "precision = p/(float(a-1)*15)\n",
    "recall = r/float(a-1)\n",
    "print (\"The top-5 correct percentage is %f\" % precision)\n",
    "print (\"The recall percentage is %f\" % recall)"
   ]
  },
  {
   "cell_type": "code",
   "execution_count": 3,
   "metadata": {},
   "outputs": [
    {
     "data": {
      "text/plain": [
       "101"
      ]
     },
     "execution_count": 3,
     "metadata": {},
     "output_type": "execute_result"
    }
   ],
   "source": []
  },
  {
   "cell_type": "code",
   "execution_count": null,
   "metadata": {},
   "outputs": [],
   "source": []
  }
 ],
 "metadata": {
  "kernelspec": {
   "display_name": "Python 2",
   "language": "python",
   "name": "python2"
  },
  "language_info": {
   "codemirror_mode": {
    "name": "ipython",
    "version": 2
   },
   "file_extension": ".py",
   "mimetype": "text/x-python",
   "name": "python",
   "nbconvert_exporter": "python",
   "pygments_lexer": "ipython2",
   "version": "2.7.15"
  }
 },
 "nbformat": 4,
 "nbformat_minor": 2
}
